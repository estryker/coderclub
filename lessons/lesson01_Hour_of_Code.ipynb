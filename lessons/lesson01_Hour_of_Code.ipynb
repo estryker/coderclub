{
 "cells": [
  {
   "cell_type": "markdown",
   "metadata": {
    "deletable": true,
    "editable": true
   },
   "source": [
    "# Lesson 1 - The Hour of Code\n",
    "\n",
    "## Intro (No computer, 10 minutes)\n",
    "Background on teacher, show of hands for who has done:\n",
    "* the hour of code before\n",
    "* any other programming languages (scratch, etc)\n",
    "* any text based programming languages? \n",
    "\n",
    "## Lesson (Computer, 1 hour)\n",
    "Go through the hour of code starting here:\n",
    "[Hour of Code](http://studio.code.org/hoc/1)"
   ]
  },
  {
   "cell_type": "markdown",
   "metadata": {
    "deletable": true,
    "editable": true
   },
   "source": [
    "### The code that Mark Zuckerburg showed was Ruby!"
   ]
  },
  {
   "cell_type": "code",
   "execution_count": null,
   "metadata": {
    "collapsed": true,
    "deletable": true,
    "editable": true
   },
   "outputs": [],
   "source": [
    "# 31 seconds into the second video ...\n",
    "facebook.each do | user |\n",
    "  user.send_message \"Happy Birthday!\"\n",
    "end"
   ]
  },
  {
   "cell_type": "markdown",
   "metadata": {
    "deletable": true,
    "editable": true
   },
   "source": [
    "## Extra\n",
    "If people finish early, then they can do:\n",
    "[Blockly Maze](https://blockly-games.appspot.com/maze?lang=en)\n",
    "\n",
    "## Conclusion (5 minutes)\n",
    "What did we learn about? \n",
    "* if/else, and later nested if/else\n",
    "* repeat and repeat until\n",
    "* commands like move forward, turn left/right\n",
    "\n",
    "### Things to remember:\n",
    "* Programming is fun\n",
    "* Programmers are ~~lazy~~ resourceful\n",
    " * Using loops makes things easier!\n",
    "* Computers are logical, and they do just what you tell them to"
   ]
  }
 ],
 "metadata": {
  "kernelspec": {
   "display_name": "Ruby 2.3.3",
   "language": "ruby",
   "name": "ruby"
  },
  "language_info": {
   "file_extension": ".rb",
   "mimetype": "application/x-ruby",
   "name": "ruby",
   "version": "2.3.3"
  }
 },
 "nbformat": 4,
 "nbformat_minor": 2
}
