{
 "cells": [
  {
   "cell_type": "markdown",
   "metadata": {},
   "source": [
    "# Basic Web programming\n",
    "\n",
    "## Guided lesson - HTML\n",
    "\n",
    "First, go to this highly technical, business information page:\n",
    "[Superprismatics](http://pws.cablespeed.com/~swier4/super.html)\n",
    "\n",
    "Now, in the browser, right click and 'view source'. And now save the file to your \n",
    "computer and point your browser to the file. \n",
    "\n",
    "HTML is a markup language.  Back in the day, when the world wide web started becoming \n",
    "used be 'graphical' browsers, most web pages were static HTML pages. \n",
    "\n",
    "Now, a lot of pages are dynamically generated using web frameworks like Ruby on Rails. \n",
    "More on that later. \n",
    "\n",
    "Let's build our own web page using this as a resource, using all the 'try it yourself' links:\n",
    "[HTML basics](http://www.w3schools.com/html/html_basic.asp)\n",
    "\n",
    "Things to try:\n",
    "* make the text red (use font color=\"\" )\n",
    "* center the text (use the \"center\" tag)\n",
    "* make the text italicized (use the \"i\" tag)\n",
    "* make the text bold (use the \"strong\" tag)\n",
    "\n",
    "Follow the other examples on that page to make links, show images, etc. \n",
    "\n",
    "If we wanted to build 'dynamic' content, we could use a web framework like Ruby on Rails\n",
    "or Sinatra.  Here's a simple Sinatra example:"
   ]
  },
  {
   "cell_type": "code",
   "execution_count": null,
   "metadata": {
    "collapsed": true
   },
   "outputs": [],
   "source": [
    "require 'sinatra'\n",
    "\n",
    "get '/' do \n",
    "  %Q{\n",
    "  <html>\n",
    "    <body>\n",
    "     You probably want to go <a href=\"/time\">  here </a>\n",
    "    </body>\n",
    "  </html>\n",
    "  }\n",
    "end\n",
    "\n",
    "get '/time' do\n",
    "  \"It is now: \" + Time.now.to_s\n",
    "end\n",
    "\n",
    "get '/hello/:name' do\n",
    "  # matches \"GET /hello/foo\" and \"GET /hello/bar\"\n",
    "  # params[:name] is 'foo' or 'bar'\n",
    "  \"Hello #{params[:name]}!\"\n",
    "end"
   ]
  },
  {
   "cell_type": "markdown",
   "metadata": {},
   "source": [
    "## Self guided lesson\n",
    "\n",
    "Take your pick:\n",
    "\n",
    "1. make your own web page\n",
    "1. download Sinatra and build a web server\n",
    "\n",
    "## Resources\n",
    "[w3schools](http://www.w3schools.com/html/default.asp)\n"
   ]
  }
 ],
 "metadata": {
  "kernelspec": {
   "display_name": "Ruby 2.3.3",
   "language": "ruby",
   "name": "ruby"
  },
  "language_info": {
   "file_extension": ".rb",
   "mimetype": "application/x-ruby",
   "name": "ruby",
   "version": "2.3.3"
  }
 },
 "nbformat": 4,
 "nbformat_minor": 2
}
