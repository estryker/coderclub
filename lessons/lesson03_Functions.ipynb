{
 "cells": [
  {
   "cell_type": "markdown",
   "metadata": {
    "deletable": true,
    "editable": true
   },
   "source": [
    "# Functions\n",
    "Functions are a great way to write re-usable code. \n",
    "\n",
    "## Review\n",
    "(Optional) Have the students describe:\n",
    "\n",
    " * loops \n",
    " * functions \n",
    " * if/else\n",
    "\n",
    "# Hands on lesson part 1\n",
    "\n",
    "Human calculators\n",
    "\n",
    "## Function 1\n",
    "Double the number given\n",
    "\n",
    "Input 1A: 7\n",
    "\n",
    "Input 1B:  -12\n",
    "\n",
    "Input 1C:  \"Apple\""
   ]
  },
  {
   "cell_type": "markdown",
   "metadata": {
    "deletable": true,
    "editable": true
   },
   "source": [
    "### Ruby"
   ]
  },
  {
   "cell_type": "code",
   "execution_count": 1,
   "metadata": {
    "collapsed": false,
    "deletable": true,
    "editable": true
   },
   "outputs": [
    {
     "data": {
      "text/plain": [
       ":function1"
      ]
     },
     "execution_count": 1,
     "metadata": {},
     "output_type": "execute_result"
    }
   ],
   "source": [
    "def function1(number)\n",
    "  return number * 2\n",
    "end"
   ]
  },
  {
   "cell_type": "markdown",
   "metadata": {
    "deletable": true,
    "editable": true
   },
   "source": [
    "### C\n",
    "```C\n",
    "\n",
    " int function1(int number) {\n",
    "   return(number * 2);\n",
    " }\n",
    "\n",
    "```\n",
    "## Function 2\n",
    "Add the two numbers\n",
    "\n",
    "Input 2A:   5, 6 \n",
    "\n",
    "Input 2B:   0, -17\n",
    "\n",
    "Input 2C:   \"Chocolate\", \"Vanilla\"\n",
    "\n",
    "### Ruby"
   ]
  },
  {
   "cell_type": "code",
   "execution_count": 2,
   "metadata": {
    "collapsed": false,
    "deletable": true,
    "editable": true
   },
   "outputs": [
    {
     "data": {
      "text/plain": [
       ":function2"
      ]
     },
     "execution_count": 2,
     "metadata": {},
     "output_type": "execute_result"
    }
   ],
   "source": [
    "def function2(number1, number2)\n",
    "  return number1 + number2\n",
    "end"
   ]
  },
  {
   "cell_type": "markdown",
   "metadata": {
    "deletable": true,
    "editable": true
   },
   "source": [
    "### C\n",
    "```C\n",
    "\n",
    " int function2(int number1, int number2) {\n",
    "   return(number1 + number2);\n",
    " }\n",
    "\n",
    "```\n",
    "The job of a function is to do one specific task so that it can be reused later. \n",
    "\n",
    "# Hands on lesson part2\n",
    "\n",
    "Three pairs of index cards:\n",
    "Pair 1:  \n",
    "  Card1A - Say \"Banana\"\n",
    "  Card1B - When you hear \"Banana\",  get up and walk around your desk\n",
    "\n",
    "Pair 2: \n",
    "  Card2A - Say \"Apple\"\n",
    "  Card2B - When you hear \"Apple\", do a drum roll on your desk\n",
    "\n",
    "Pair 3:\n",
    "  Card3A - Say \"Orange\"\n",
    "  Card3B - When you hear \"Orange\", get up and hop on one foot\n",
    "\n",
    "This type of flow control is called 'Event Driven programming'\n",
    "\n",
    "### Ruby\n",
    "```ruby\n",
    " def onBanana\n",
    "    walk_around_desk\n",
    " end\n",
    "```\n",
    "\n",
    "```ruby\n",
    "  def onClick\n",
    "     some_command\n",
    "  end\n",
    "```\n",
    "\n",
    "## Self guided Lesson1 (20 Minutes)\n",
    "[Pond game](https://blockly-games.appspot.com/pond-tutor?lang=en)\n",
    "\n",
    "## Self Guided Lesson2 (20 Minutes)\n",
    "\n",
    "[Play lab](http://studio.code.org/s/playlab/stage/1/puzzle/1)\n",
    "\n",
    "[Flappy bird!](http://studio.code.org/flappy/1)\n",
    "\n",
    "## Extra / Homework \n",
    "\n",
    "[Google Turtle](https://blockly-games.appspot.com/turtle?lang=en)\n",
    "* point out how to save your work here\n",
    "\n",
    "[Movie](https://blockly-games.appspot.com/movie?lang=en)\n",
    "\n",
    "## Homework \n",
    "Use Turtle level 10 to draw a picture, and bring the link to share with the rest of the class. \n",
    "\n",
    "## Conclusion (5 minutes)\n",
    "New concepts learned? How are event driven functions different from directly called ones?"
   ]
  }
 ],
 "metadata": {
  "kernelspec": {
   "display_name": "Ruby 2.3.3",
   "language": "ruby",
   "name": "ruby"
  },
  "language_info": {
   "file_extension": ".rb",
   "mimetype": "application/x-ruby",
   "name": "ruby",
   "version": "2.3.3"
  }
 },
 "nbformat": 4,
 "nbformat_minor": 2
}
