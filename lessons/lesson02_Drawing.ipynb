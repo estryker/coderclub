{
 "cells": [
  {
   "cell_type": "markdown",
   "metadata": {},
   "source": [
    "# Drawing\n",
    "The goal here is to learn flow control and looping.  \n",
    "\n",
    "## Intro / review (5 Mins, no computer)\n",
    "* What kind of loop structure do you use when you know how many times you will repeat?\n",
    " * What if you don't know how many times? \n",
    " * Have we needed to know what iteration we are in? (i.e. what the 'loop counter' is?)  \n",
    "\n",
    "# Hands on lesson (10 mins)\n",
    "Have a couple students help demonstrate a while loop using index cards.  Student 1 will start with 5 index cards.  The class gets to choose an action for the student to do each time. Choices are: jumping, waving, or clapping.   The student starts with 5 index cards and performs the action, and hands one of the cards to student 2.  Once the cards are gone, they are done. Write the versions of this on the board:\n"
   ]
  },
  {
   "cell_type": "markdown",
   "metadata": {},
   "source": [
    "## Ruby"
   ]
  },
  {
   "cell_type": "code",
   "execution_count": null,
   "metadata": {
    "collapsed": true
   },
   "outputs": [],
   "source": [
    "5.times do \n",
    "  clap\n",
    "end"
   ]
  },
  {
   "cell_type": "markdown",
   "metadata": {},
   "source": [
    "### C\n",
    "```C\n",
    "/* Look familiar to the index card exercise? */\n",
    "int i = 5;\n",
    "while(i>0) {\n",
    "  clap();\n",
    "  i = i - 1; \n",
    "}\n",
    "```\n",
    "\n",
    "### C (for loop)\n",
    "```C\n",
    "for(int i=5; i>0; i = i-1) {\n",
    "  clap();\n",
    "}\n",
    "``` "
   ]
  },
  {
   "cell_type": "markdown",
   "metadata": {},
   "source": [
    "### Python\n",
    "```python\n",
    "for i in range(5) :\n",
    "  clap()\n",
    "\n",
    "```\n",
    "\n",
    "Follow up question:\n",
    "What if we had to write these instructions for student 1?  Would we repeat the commands? \n",
    "\n",
    "```\n",
    "clap\n",
    "clap\n",
    "clap\n",
    "clap\n",
    "clap\n",
    "```\n",
    "\n",
    "What if we changed the action to jump? Is it easier to modify the code with a loop or with the explicit instructions?\n",
    "\n",
    "## Guided Lesson (30 minutes)\n",
    "Code.org artist\n",
    "Have the students complete the lesson here:\n",
    "[Artist lesson](http://studio.code.org/s/artist/stage/1/puzzle/1)\n",
    "\n",
    "* Allow the students to go through the first 3 slides on their own. If they are done quickly, they can help a neighbor\n",
    "* Step 4 introduces looping, which they've done. Simply point out how much easier this is than copying the instructions 5 times. \n",
    "* Stop after they reach page 5 to discuss the working code\n",
    " * Does anyone see any redundancy in the steps?  \n",
    " * Notice in step 6, we add another loop\n",
    "* On step 10 - wouldn't it be nice to have a function that accepted a parameter for the number of sides you wanted? \n",
    " * How would the number of degrees in the turn be changed?\n",
    "\n",
    "## Self guided lesson (25 minutes)\n",
    "* Have the students save their work to their GAFE account\n",
    "\n",
    "[Google Turtle](https://blockly-games.appspot.com/turtle?lang=en)\n",
    "\n",
    "Help/Key (Note that debugging techniques can be taught here)\n",
    "* Stars within a square: [Turtle 5](https://blockly-games.appspot.com/turtle?lang=en&level=5#h3b2vb)\n",
    "* [Turtle 6](https://blockly-games.appspot.com/turtle?lang=en&level=6#ftfm3a) \n",
    "* [Turtle 7](https://blockly-games.appspot.com/turtle?lang=en&level=7#eeffd5)\n",
    "* [Turtle 8](https://blockly-games.appspot.com/turtle?lang=en&level=8#awusc6)\n",
    "* [Turtle 9](https://blockly-games.appspot.com/turtle?lang=en&level=9) Note right click, duplicate\n",
    "\n",
    "\n",
    "## Extra \n",
    "\n",
    "[Movie](https://blockly-games.appspot.com/movie?lang=en)\n",
    "\n",
    "## Homework \n",
    "Use Turtle level 10 to draw a picture, and bring the link to share with the rest of the class. \n",
    "\n",
    "## Conclusion (5 minutes)\n",
    "New concepts learned? "
   ]
  }
 ],
 "metadata": {
  "kernelspec": {
   "display_name": "Ruby 2.3.3",
   "language": "ruby",
   "name": "ruby"
  },
  "language_info": {
   "file_extension": ".rb",
   "mimetype": "application/x-ruby",
   "name": "ruby",
   "version": "2.3.3"
  }
 },
 "nbformat": 4,
 "nbformat_minor": 2
}
