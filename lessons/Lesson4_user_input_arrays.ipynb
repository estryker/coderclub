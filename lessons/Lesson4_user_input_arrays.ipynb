{
 "cells": [
  {
   "cell_type": "markdown",
   "metadata": {},
   "source": [
    "# User Input/Output and Variables, Arrays\n",
    "\n",
    "## Review - functions\n",
    "What functions did we do last week?\n",
    "\n",
    "* double the number\n",
    "* add two numbers\n",
    "\n",
    "For those who did the pond game, what functions were there? \n",
    "\n",
    "* scan(degrees)\n",
    "* cannon(degrees,distance)\n",
    "\n",
    "Or maybe you remember from the drawing, the flower function\n",
    "\n",
    "**We will revisit functions later in Ruby\n",
    "\n",
    "## Hands on Lesson\n",
    "\n",
    "Now, instead of index cards with pre-written inputs/outputs, let the students put their input on the board. \n",
    "Write on the board: Name: with a box around it to lead into using variables. \n",
    "\n",
    "Pick 3 (or more) students to answer the question: 'What is your name?'. Once they write their names, \n",
    "have a 4th student say: 'Hello (name)'. Prep the 4th student saying that is their function in life to say\n",
    "hello to people. \n",
    "\n",
    "## Ruby \n",
    "With Ruby installed on your computer, the code would look like this:\n",
    "```ruby\n",
    "puts \"What is your name?\"\n",
    "name = gets\n",
    "puts \"Hello \" + name\n",
    "```\n",
    "\n",
    "### In our Notebook environment, this is what the code looks like"
   ]
  },
  {
   "cell_type": "code",
   "execution_count": 1,
   "metadata": {
    "collapsed": false
   },
   "outputs": [
    {
     "data": {
      "text/plain": [
       "true"
      ]
     },
     "execution_count": 1,
     "metadata": {},
     "output_type": "execute_result"
    }
   ],
   "source": [
    "require 'iruby_helpers'"
   ]
  },
  {
   "cell_type": "code",
   "execution_count": 3,
   "metadata": {
    "collapsed": false
   },
   "outputs": [
    {
     "name": "stdout",
     "output_type": "stream",
     "text": [
      "Hello Coder Jane\n"
     ]
    }
   ],
   "source": [
    "name = gets_prompt \"What is your name?\"\n",
    "puts \"Hello \" + name"
   ]
  },
  {
   "cell_type": "markdown",
   "metadata": {},
   "source": [
    "## Guided lesson\n",
    "\n",
    "Start here, and build an application together:\n",
    "\n",
    "[blocklyCode] (https://blockly-demo.appspot.com/static/demos/code/index.html)\n",
    "\n",
    "Before getting to the examples, demonstrate some of the building blocks on the left side. \n",
    "\n",
    "While going through the examples, show the Javascript and Python code. \n",
    "\n",
    "### Name prompt. \n",
    "Write code that prompts the user for their name\n",
    "\n",
    "### Name prompt 2. \n",
    "Write code that says 'Hello' to everyone, unless the user\n",
    "is 'John', in which case they should say \"Oh, it's you. \"\n",
    "\n",
    "Note that usually, there is an 'else' option:"
   ]
  },
  {
   "cell_type": "code",
   "execution_count": 4,
   "metadata": {
    "collapsed": false
   },
   "outputs": [
    {
     "name": "stdout",
     "output_type": "stream",
     "text": [
      "Hi Coder Jane\n"
     ]
    }
   ],
   "source": [
    "if name == 'John'\n",
    "  puts \"Oh, it's you John\"\n",
    "else\n",
    "  puts \"Hi \" + name\n",
    "end"
   ]
  },
  {
   "cell_type": "markdown",
   "metadata": {},
   "source": [
    "### Calculator\n",
    "Write a program that accepts two numbers, and adds them together\n",
    "\n",
    "### List Builder\n",
    "Write a program that creates a grocery list containing three numbers.\n",
    "\n",
    "## Lesson about variables and types\n",
    "We have dealt with three types of variables:\n",
    "\n",
    "### String\n",
    "A string is a sequence of characters. \n"
   ]
  },
  {
   "cell_type": "code",
   "execution_count": 5,
   "metadata": {
    "collapsed": false
   },
   "outputs": [
    {
     "data": {
      "text/plain": [
       "\"This is a string of characters\""
      ]
     },
     "execution_count": 5,
     "metadata": {},
     "output_type": "execute_result"
    }
   ],
   "source": [
    "string = \"This is a string of characters\""
   ]
  },
  {
   "cell_type": "markdown",
   "metadata": {},
   "source": [
    "### Numbers\n",
    "Numbers in computer programs are usually either Integers or Real numbers (called Floating point numbers)\n",
    "\n",
    "Integers:"
   ]
  },
  {
   "cell_type": "code",
   "execution_count": 6,
   "metadata": {
    "collapsed": false
   },
   "outputs": [
    {
     "data": {
      "text/plain": [
       "17"
      ]
     },
     "execution_count": 6,
     "metadata": {},
     "output_type": "execute_result"
    }
   ],
   "source": [
    "num1 = 17"
   ]
  },
  {
   "cell_type": "markdown",
   "metadata": {},
   "source": [
    "Real numbers:"
   ]
  },
  {
   "cell_type": "code",
   "execution_count": 7,
   "metadata": {
    "collapsed": false
   },
   "outputs": [
    {
     "data": {
      "text/plain": [
       "3.5"
      ]
     },
     "execution_count": 7,
     "metadata": {},
     "output_type": "execute_result"
    }
   ],
   "source": [
    "num2 = 3.5"
   ]
  },
  {
   "cell_type": "markdown",
   "metadata": {},
   "source": [
    "### Arrays\n",
    "An Array is and ordered list of items. "
   ]
  },
  {
   "cell_type": "code",
   "execution_count": 8,
   "metadata": {
    "collapsed": false
   },
   "outputs": [
    {
     "data": {
      "text/plain": [
       "[1, \"1\", 2, \"two\"]"
      ]
     },
     "execution_count": 8,
     "metadata": {},
     "output_type": "execute_result"
    }
   ],
   "source": [
    "array = [1,2,3]\n",
    "array2 = [\"This\", \"is\", \"an\", \"array\"]\n",
    "array3 = [1,\"1\",2,\"two\"]"
   ]
  },
  {
   "cell_type": "markdown",
   "metadata": {},
   "source": [
    "## Self guided lesson / project\n",
    "Write a program that asks the user his/her name, and echo it back. Then ask what the user's\n",
    "favorite color, and check to see if it is in the following list:\n",
    "\n",
    "```\n",
    "Pink, Red, Green, Yellow, Blue\n",
    "```\n",
    "\n",
    "If it is in the list, then print a message indicating that it is in the list. \n",
    "\n",
    "If it is not, then print a different message\n",
    "\n",
    "## Bonus / extension to the project\n",
    "Instead of querying for their favorite color, print the list of colors and have\n",
    "the user select their favorite from that list.  Repeat until they have selected\n",
    "one in the list. \n",
    "\n",
    "* Add to that a question about the user's favorite color and check to see if it is in a known list. \n",
    "\n",
    "## Help\n",
    "[Name Prompt 1 help](https://blockly-demo.appspot.com/static/demos/code/index.html?lang=en#5in977)\n",
    "\n",
    "[Name Prompt 2 help](https://blockly-demo.appspot.com/static/demos/code/index.html?lang=en#9md6nc)\n",
    "\n",
    "[Calculator help](https://blockly-demo.appspot.com/static/demos/code/index.html#tirtwk)\n",
    "\n",
    "[Grocery List](https://blockly-demo.appspot.com/static/demos/code/index.html#3qcjgd)\n",
    "\n",
    "[Helpful example](https://blockly-demo.appspot.com/static/demos/code/index.html?lang=en#2bkzko)\n",
    "\n",
    "## Extra / Homework\n",
    "Try the pond game with variables:\n",
    "[Pond game](https://blockly-games.appspot.com/pond-basic?lang=en)\n",
    "\n",
    "[Try Ruby](http://tryruby.org)\n",
    "\n",
    "[Kids Ruby](http://kidsruby.com/) *Download and install with your parent's permission!"
   ]
  }
 ],
 "metadata": {
  "kernelspec": {
   "display_name": "Ruby 2.3.3",
   "language": "ruby",
   "name": "ruby"
  },
  "language_info": {
   "file_extension": ".rb",
   "mimetype": "application/x-ruby",
   "name": "ruby",
   "version": "2.3.3"
  }
 },
 "nbformat": 4,
 "nbformat_minor": 2
}
