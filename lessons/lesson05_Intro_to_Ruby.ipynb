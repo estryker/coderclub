{
 "cells": [
  {
   "cell_type": "markdown",
   "metadata": {
    "deletable": true,
    "editable": true
   },
   "source": [
    "# Intro to text based programming\n",
    "\n",
    "## Review\n",
    "Flow control learned?\n",
    "Data Structures learned?\n",
    "\n",
    "## Guided lesson\n",
    "Some quick background in Ruby, not comprehesive, but to just get the feel of the language. \n",
    "[Ruby in the Browser](http://coderclub-rails.herokuapp.com/try/ruby)\n",
    "\n",
    "### Numbers\n",
    "```ruby\n",
    " 2+2\n",
    " 7-4\n",
    " 2 * 6\n",
    " 8/2\n",
    " 8/5 # ???\n",
    " 8.0/5\n",
    " 2.class\n",
    " 2 **512\n",
    "\n",
    "```"
   ]
  },
  {
   "cell_type": "code",
   "execution_count": 1,
   "metadata": {
    "collapsed": false,
    "deletable": true,
    "editable": true
   },
   "outputs": [
    {
     "data": {
      "text/plain": [
       "4"
      ]
     },
     "execution_count": 1,
     "metadata": {},
     "output_type": "execute_result"
    }
   ],
   "source": [
    "2+2"
   ]
  },
  {
   "cell_type": "markdown",
   "metadata": {
    "deletable": true,
    "editable": true
   },
   "source": [
    "### Strings\n",
    "```ruby\n",
    "st = \"hello\"\n",
    "st.upcase\n",
    "st\n",
    "st.start_with? 'h'\n",
    "st.start_with? 'H'\n",
    "st.upcase!\n",
    "st.sub('L','X')\n",
    "st.gsub('L','X')\n",
    "st.gsub!('L','X')\n",
    "\n",
    "```"
   ]
  },
  {
   "cell_type": "code",
   "execution_count": 2,
   "metadata": {
    "collapsed": false,
    "deletable": true,
    "editable": true
   },
   "outputs": [
    {
     "data": {
      "text/plain": [
       "\"hello\""
      ]
     },
     "execution_count": 2,
     "metadata": {},
     "output_type": "execute_result"
    }
   ],
   "source": [
    "st = \"hello\""
   ]
  },
  {
   "cell_type": "markdown",
   "metadata": {
    "deletable": true,
    "editable": true
   },
   "source": [
    "### Arrays\n",
    "```ruby\n",
    "l = [1,2,3,4]\n",
    "l.length\n",
    "l.first\n",
    "l[0]\n",
    "l[1]\n",
    "l.last\n",
    "l[3]\n",
    "l[-1]\n",
    "l[0..2]\n",
    "l += [9]\n",
    "l.length\n",
    "\n",
    "l = [\"a\", \"bee\",\"see\"]\n",
    "l2 = %w[a bee see]\n",
    "```"
   ]
  },
  {
   "cell_type": "code",
   "execution_count": 3,
   "metadata": {
    "collapsed": false,
    "deletable": true,
    "editable": true
   },
   "outputs": [
    {
     "data": {
      "text/plain": [
       "[1, 2, 3, 4]"
      ]
     },
     "execution_count": 3,
     "metadata": {},
     "output_type": "execute_result"
    }
   ],
   "source": [
    "l = [1,2,3,4]"
   ]
  },
  {
   "cell_type": "markdown",
   "metadata": {
    "deletable": true,
    "editable": true
   },
   "source": [
    "### Hashes (Dictionary/Associative Arrays) - briefly, if desired\n",
    "```ruby\n",
    "h = {'key1' => 1, 'key2' => 2 }\n",
    "h\n",
    "h['key1']\n",
    "h['key3'] = 3\n",
    "h\n",
    "h.keys\n",
    "h.values\n",
    "```"
   ]
  },
  {
   "cell_type": "code",
   "execution_count": 4,
   "metadata": {
    "collapsed": false,
    "deletable": true,
    "editable": true
   },
   "outputs": [
    {
     "data": {
      "text/plain": [
       "{\"key1\"=>1, \"key2\"=>2}"
      ]
     },
     "execution_count": 4,
     "metadata": {},
     "output_type": "execute_result"
    }
   ],
   "source": [
    "h = {'key1' => 1, 'key2' => 2 }"
   ]
  },
  {
   "cell_type": "markdown",
   "metadata": {
    "deletable": true,
    "editable": true
   },
   "source": [
    "### Control flow"
   ]
  },
  {
   "cell_type": "code",
   "execution_count": 5,
   "metadata": {
    "collapsed": false,
    "deletable": true,
    "editable": true
   },
   "outputs": [
    {
     "name": "stdout",
     "output_type": "stream",
     "text": [
      "hi! \n",
      "hi! \n",
      "hi! \n"
     ]
    },
    {
     "data": {
      "text/plain": [
       "3"
      ]
     },
     "execution_count": 5,
     "metadata": {},
     "output_type": "execute_result"
    }
   ],
   "source": [
    "3.times do \n",
    "  puts \"hi! \"\n",
    "end"
   ]
  },
  {
   "cell_type": "code",
   "execution_count": 8,
   "metadata": {
    "collapsed": false,
    "deletable": true,
    "editable": true
   },
   "outputs": [
    {
     "name": "stdout",
     "output_type": "stream",
     "text": [
      "hi 0\n",
      "hi 1\n",
      "hi 2\n"
     ]
    },
    {
     "data": {
      "text/plain": [
       "3"
      ]
     },
     "execution_count": 8,
     "metadata": {},
     "output_type": "execute_result"
    }
   ],
   "source": [
    "3.times do | i |\n",
    "  puts \"hi \" + i.to_s\n",
    "end"
   ]
  },
  {
   "cell_type": "markdown",
   "metadata": {
    "deletable": true,
    "editable": true
   },
   "source": [
    "### Functions"
   ]
  },
  {
   "cell_type": "code",
   "execution_count": 9,
   "metadata": {
    "collapsed": false,
    "deletable": true,
    "editable": true
   },
   "outputs": [
    {
     "data": {
      "text/plain": [
       ":add"
      ]
     },
     "execution_count": 9,
     "metadata": {},
     "output_type": "execute_result"
    }
   ],
   "source": [
    "def add(num1,num2)\n",
    "  return num1 + num2\n",
    "end"
   ]
  },
  {
   "cell_type": "markdown",
   "metadata": {
    "deletable": true,
    "editable": true
   },
   "source": [
    "## Self Guided\n",
    "### Do some turtle graphics in the browser\n",
    "[Ruby Turtle](http://www.coderclub.ud/turtle/draw) \n",
    "\n",
    "*Anyone that can draw something interesting, can try it using Sphero!\n",
    "\n",
    "## Sphero \n",
    "\n",
    "### On a Mac\n",
    "\n",
    "```ruby\n",
    "Sphero.start '/dev/tty.Sphero-BRG-AMP-SPP' do\n",
    "  colors = ['red','yellow','blue','green']\n",
    "\n",
    "  speed 70\n",
    "  4.times do | i |\n",
    "    color colors[i]\n",
    "    forward 4\n",
    "    turnright 90\n",
    "  end\n",
    "end\n",
    "```\n",
    "\n",
    "### On Ubuntu Linux (old interface)\n",
    "\n",
    "```ruby\n",
    "require 'sphero'\n",
    "s = Sphero.start '/dev/rfcomm0'\n",
    "s.color('lightblue')\n",
    "4.times do | i |\n",
    "    s.roll(50,i*90)\n",
    "    s.keep_going 4\n",
    "end\n",
    "```\n",
    "\n",
    "Note to get the sphero to work on ubuntu, I had to do the following:\n",
    "\n",
    "```\n",
    "$ sudo hcitool scan\n",
    "\n",
    "$ sudo rfcomm bind /dev/rfcomm0 MACADDR 1\n",
    "\n",
    "```"
   ]
  }
 ],
 "metadata": {
  "kernelspec": {
   "display_name": "Ruby 2.3.3",
   "language": "ruby",
   "name": "ruby"
  },
  "language_info": {
   "file_extension": ".rb",
   "mimetype": "application/x-ruby",
   "name": "ruby",
   "version": "2.3.3"
  }
 },
 "nbformat": 4,
 "nbformat_minor": 2
}
