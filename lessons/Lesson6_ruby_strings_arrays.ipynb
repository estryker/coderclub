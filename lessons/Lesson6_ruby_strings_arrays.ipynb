{
 "cells": [
  {
   "cell_type": "markdown",
   "metadata": {},
   "source": [
    "# Ruby - Strings / Arrays\n",
    "\n",
    "## Guided lesson - Mini Tasks\n",
    "First, go to these three links as tabs in your browser:\n",
    "\n",
    "*If this is not being run in a Notebook environment:*\n",
    "[Ruby in the Browser](http://coderclub-rails.herokuapp.com/try/ruby)\n",
    " \n",
    "[Ruby-doc - String](http://ruby-doc.org/core-2.2.0/String.html) \n",
    "\n",
    "[Ruby-doc - Array](http://ruby-doc.org/core-2.2.0/Array.html)\n",
    "\n",
    "Note that as you learn any language, you will remember some of the common functionality that you need, \n",
    "but you will always have to look things up in documentation like this. \n",
    "\n",
    "1. Make a String, and count the characters in it\n",
    "1. Convert a String to an Array of characters (chars)\n",
    "1. Count the characters in the Array from the previous example\n",
    "1. Count the number of unique characters in the Array\n",
    "1. Ask the user for a String using 'gets_prompt', and uppercase it\n",
    "1. Ask the user for a String using 'gets_prompt', and print the first character\n",
    "1. Ask the user for a String using 'gets_prompt', and check to see if it starts with the letter 'a'\n",
    "1. Ask the user for a String using 'gets_prompt', and check to see if it starts with the letter 'a' or 'A' \n",
    "1. Ask the user for a String using 'gets_prompt', and check to see if it starts with a vowel \n",
    "1. Ask the user for a String using 'gets_prompt', and substitute (sub) the first 'e' with a '-'\n",
    "1. Ask the user for a String using 'gets_prompt', and substitute (sub) all 'e's with a '-'\n",
    "1. Ask the user for two numbers using 'gets_prompt', convert the input to Integers, and add them\n",
    "1. Create an Array of numbers and find its length\n",
    "1. Create an Array of numbers and print out each value\n",
    "1. Create an Array of numbers and print out the first value\n",
    "1. Create an Array of numbers and print out the first and last value\n",
    "1. Create an Array of numbers and return the first three items\n",
    "1. Create an Array of numbers and add them all up, and print out the answer \n",
    "1. Create an Array of numbers and return the sorted list\n",
    "1. Create an Array of numbers and sort the array (in place!) \n",
    "1. Create an Array of numbers and find the lowest and the highest values\n",
    "1. Create an Array of numbers, shuffle the values, and print it out"
   ]
  },
  {
   "cell_type": "code",
   "execution_count": 1,
   "metadata": {
    "collapsed": false
   },
   "outputs": [
    {
     "data": {
      "text/plain": [
       "5"
      ]
     },
     "execution_count": 1,
     "metadata": {},
     "output_type": "execute_result"
    }
   ],
   "source": [
    "st = \"hello\"\n",
    "st.length"
   ]
  },
  {
   "cell_type": "markdown",
   "metadata": {},
   "source": [
    "## Self guided lesson\n",
    "* Write a cointoss program.  Have the user type in 'heads' or 'tails', and have the computer randomnly pick heads or tails to see if they match. Alert the user **Hint: Use Array.shuffle, Array.first, gets_prompt, and puts_alert \n",
    "* Write a program of '1-2-3-shoot'. Have the user enter a choice, 'even' or 'odd', then have the user pick a number: 1 or 2.  Have the computer randomly pick a number of 1 or 2 (not based on the user's input!!), and tell you what it picked and who won using 'puts_alert'. \n",
    "* Write a program of rock/paper/scissors. Have the user enter the word (or just the first letter), have the computer randomly pick an item (not based on the user's input!!), and tell you what it picked and who won using 'puts_alert'. \n",
    "\n",
    "#### \n",
    "*Save your text to a document elsewhere or create a URL and save that to a text file. "
   ]
  }
 ],
 "metadata": {
  "kernelspec": {
   "display_name": "Ruby 2.3.3",
   "language": "ruby",
   "name": "ruby"
  },
  "language_info": {
   "file_extension": ".rb",
   "mimetype": "application/x-ruby",
   "name": "ruby",
   "version": "2.3.3"
  }
 },
 "nbformat": 4,
 "nbformat_minor": 2
}
