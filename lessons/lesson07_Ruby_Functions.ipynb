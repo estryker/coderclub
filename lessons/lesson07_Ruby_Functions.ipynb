{
 "cells": [
  {
   "cell_type": "markdown",
   "metadata": {},
   "source": [
    "# Ruby Functions\n",
    "\n",
    "## No computer portion\n",
    "\n",
    "Repeat the index card lesson with functions from blockly. \n",
    "\n",
    "Why would we want to use functions? \n",
    "\n",
    "## Guided lesson\n",
    "Show this:\n",
    "[Flower example](http://coderclub-rails.herokuapp.com/turtle/draw/iltlgf )\n",
    "\n",
    "Who would want to draw each petal one by one? Not me, so instead, lets use a function. \n",
    "\n",
    "Previously, we have written a program to prompt a user for input, repeating until they get it right. \n",
    "\n",
    "[1-2-3 shoot!](http://coderclub-rails.herokuapp.com/try/ruby/18u4ig8)\n",
    "\n",
    "If we do this a lot, we might want to make a function:"
   ]
  },
  {
   "cell_type": "code",
   "execution_count": 3,
   "metadata": {
    "collapsed": false
   },
   "outputs": [
    {
     "data": {
      "text/plain": [
       "\"odd\""
      ]
     },
     "execution_count": 3,
     "metadata": {},
     "output_type": "execute_result"
    }
   ],
   "source": [
    "require 'iruby_helpers'\n",
    "def prompt_for_string(msg,possible_vals)\n",
    "  val = ''\n",
    "  until possible_vals.include? val\n",
    "    val = gets_prompt(msg).downcase\n",
    "  end\n",
    "  val\n",
    "end\n",
    "possible_odds = ['odd','even']\n",
    "user_odd = prompt_for_string(\"Choose even or odd\",possible_odds)"
   ]
  },
  {
   "cell_type": "markdown",
   "metadata": {},
   "source": [
    "[1-2-3 shoot, revised](http://coderclub-rails.herokuapp.com/try/ruby/14z8clm)\n",
    "\n",
    "Now we can duplicate the functions that were on the index cards.  Write a function to double the number given, and call the function.  Then write a function that adds numbers and call the function. \n",
    "\n",
    "**Note that gets_prompt returns a string, so call .to_i.  But this way is better:"
   ]
  },
  {
   "cell_type": "code",
   "execution_count": 4,
   "metadata": {
    "collapsed": false
   },
   "outputs": [
    {
     "data": {
      "text/plain": [
       ":add"
      ]
     },
     "execution_count": 4,
     "metadata": {},
     "output_type": "execute_result"
    }
   ],
   "source": [
    "def add(n,m)\n",
    "   return n.to_i + m.to_i\n",
    "end"
   ]
  },
  {
   "cell_type": "markdown",
   "metadata": {},
   "source": [
    "Another example of where to use functions is with the Turtle drawing. Here's a function that\n",
    "draws a square:\n",
    "\n",
    "```ruby\n",
    "Turtle.draw do\n",
    "  def square(size)\n",
    "   colors = %w[red orange yellow green]\n",
    "   4.times do | i |\n",
    "     pencolor colors[i]\n",
    "     forward size.to_i\n",
    "     turnright 90\n",
    "   end\n",
    "  end\n",
    "  10.times do \n",
    "    square 50\n",
    "    turnright 36\n",
    "    jump 10\n",
    "  end\n",
    "end\n",
    "```\n",
    "\n",
    "[turtle example](http://coderclub-rails.herokuapp.com/turtle/draw/wtx277)\n",
    "\n",
    "## Self guided lesson\n",
    "1. Write a function in Turtle graphics that makes a shape that you want, like a flower or hexagon or whatever. Then call \n",
    "that function in a loop with jumps in between. \n",
    "[Flower example](http://coderclub-rails.herokuapp.com/turtle/draw/iltlgf )\n",
    "1. Write an adder that takes in two numbers, adds them together, and returns the sum. Then alert the user what the solution is. \n",
    "\n",
    "## References\n",
    "[ruby documentation](http://ruby-doc.org/core-2.2.0/)"
   ]
  }
 ],
 "metadata": {
  "kernelspec": {
   "display_name": "Ruby 2.3.3",
   "language": "ruby",
   "name": "ruby"
  },
  "language_info": {
   "file_extension": ".rb",
   "mimetype": "application/x-ruby",
   "name": "ruby",
   "version": "2.3.3"
  }
 },
 "nbformat": 4,
 "nbformat_minor": 2
}
